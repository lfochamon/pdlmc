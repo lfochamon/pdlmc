{
 "cells": [
  {
   "cell_type": "code",
   "execution_count": null,
   "metadata": {},
   "outputs": [],
   "source": [
    "import os\n",
    "import sys\n",
    "\n",
    "import scipy as sp\n",
    "from matplotlib import pyplot as plt\n",
    "import numpy as np\n",
    "\n",
    "CWD = os.path.abspath(\"\")\n",
    "sys.path.append(os.path.join(CWD, \"..\"))\n",
    "from plt_settings import plt_settings\n",
    "\n",
    "full_width = 5.5\n",
    "ratio = 1 / 1.618"
   ]
  },
  {
   "cell_type": "code",
   "execution_count": null,
   "metadata": {},
   "outputs": [],
   "source": [
    "ITERATIONS = int(5e5)\n",
    "\n",
    "sampling_data = np.load(os.path.join(CWD, \"1d_gaussian_vs_N.npz\"))\n",
    "\n",
    "pdlmc_samples = {}\n",
    "pdlmc_samples[1] = sampling_data[\"pdlmc_x_1\"]\n",
    "pdlmc_samples[10] = sampling_data[\"pdlmc_x_10\"]\n",
    "pdlmc_samples[100] = sampling_data[\"pdlmc_x_100\"]\n",
    "pdlmc_samples[1000] = sampling_data[\"pdlmc_x_1000\"]\n",
    "\n",
    "pdlmc_lambda = {}\n",
    "pdlmc_lambda[1] = sampling_data[\"pdlmc_lambda_1\"]\n",
    "pdlmc_lambda[10] = sampling_data[\"pdlmc_lambda_10\"]\n",
    "pdlmc_lambda[100] = sampling_data[\"pdlmc_lambda_100\"]\n",
    "pdlmc_lambda[1000] = sampling_data[\"pdlmc_lambda_1000\"]\n",
    "\n",
    "pdlmc_time = {}\n",
    "pdlmc_time[1] = sampling_data[\"pdlmc_t_1\"]\n",
    "pdlmc_time[10] = sampling_data[\"pdlmc_t_10\"]\n",
    "pdlmc_time[100] = sampling_data[\"pdlmc_t_100\"]\n",
    "pdlmc_time[1000] = sampling_data[\"pdlmc_t_1000\"]"
   ]
  },
  {
   "cell_type": "code",
   "execution_count": null,
   "metadata": {},
   "outputs": [],
   "source": [
    "a, b = 1, 3\n",
    "\n",
    "# True mean/variance\n",
    "Z = sp.stats.norm.cdf(b) - sp.stats.norm.cdf(a)\n",
    "true_mean = sp.integrate.quad(lambda x: x * sp.stats.norm.pdf(x) / Z, a, b)[0]\n",
    "true_var = sp.integrate.quad(lambda x: x**2 * sp.stats.norm.pdf(x) / Z, a, b)[0] - true_mean**2\n",
    "\n",
    "print(f\"Mean of the distribution: {true_mean}/{true_var}\")\n",
    "print(\"\")\n",
    "\n",
    "# Estimated mean/variance\n",
    "for N, samples in pdlmc_samples.items():\n",
    "    print(\n",
    "        f\"[N = {N:>4}] Estimated mean/variance: {samples[:ITERATIONS // N].mean()}/{samples[:ITERATIONS // N].var()}\",\n",
    "        flush=True,\n",
    "    )\n",
    "print(\"\")\n",
    "\n",
    "# Out-of-support samples\n",
    "for N, samples in pdlmc_samples.items():\n",
    "    out_of_support = ((samples[: ITERATIONS // N] < a) | (samples[: ITERATIONS // N] > b)).mean()\n",
    "    print(f\"[N = {N:>4}] Percentage of out-of-support samples: {out_of_support * 100:.2f}%\")"
   ]
  },
  {
   "cell_type": "code",
   "execution_count": null,
   "metadata": {},
   "outputs": [],
   "source": [
    "plt_settings[\"figure.figsize\"] = (full_width / 2, ratio * full_width / 2)\n",
    "\n",
    "with plt.rc_context(plt_settings):\n",
    "    _, axs = plt.subplots(1, 1, dpi=300)\n",
    "    for N, samples in pdlmc_samples.items():\n",
    "        cum_mean = np.cumsum(samples, axis=0) / np.arange(1, ITERATIONS + 1)\n",
    "        axs.plot(\n",
    "            cum_mean,\n",
    "            label=rf\"$N_b = {N}$ ({pdlmc_time[N]:.0f} s)\",\n",
    "        )\n",
    "    axs.hlines(y=true_mean, xmin=0, xmax=ITERATIONS, linestyles=\"--\", color=\"k\", label=\"True mean\")\n",
    "    axs.ticklabel_format(scilimits=(0, 2))\n",
    "    # axs.set_xlim(0, 1e5)\n",
    "    axs.set_ylim(1.4, 1.6)\n",
    "    axs.grid()\n",
    "    axs.set_xlabel(\"PD-LMC iterations\")\n",
    "    axs.set_ylabel(r\"Sample average\")\n",
    "    plt.legend(loc=\"lower right\", ncol=2)\n",
    "\n",
    "    plt.show()"
   ]
  },
  {
   "cell_type": "code",
   "execution_count": null,
   "metadata": {},
   "outputs": [],
   "source": [
    "plt_settings[\"figure.figsize\"] = (full_width / 2, ratio * full_width / 2)\n",
    "\n",
    "with plt.rc_context(plt_settings):\n",
    "    _, axs = plt.subplots(1, 1, dpi=300)\n",
    "    for N, samples in pdlmc_samples.items():\n",
    "        cum_mean = np.cumsum(samples, axis=0) / np.arange(1, ITERATIONS + 1)\n",
    "        axs.plot(\n",
    "            N * np.arange(ITERATIONS // N),\n",
    "            cum_mean[: ITERATIONS // N],\n",
    "            label=rf\"$N_b = {N}$ ({pdlmc_time[N]:.0f} s)\",\n",
    "        )\n",
    "    axs.hlines(y=true_mean, xmin=0, xmax=ITERATIONS, linestyles=\"--\", color=\"k\", label=\"True mean\")\n",
    "    axs.ticklabel_format(scilimits=(0, 2))\n",
    "    axs.set_ylim(0.4, 1.6)\n",
    "    axs.grid()\n",
    "    axs.set_xlabel(\"LMC evaluations\")\n",
    "    axs.set_ylabel(r\"Sample average\")\n",
    "    plt.legend(loc=\"lower right\")\n",
    "\n",
    "    plt.show()"
   ]
  },
  {
   "cell_type": "code",
   "execution_count": null,
   "metadata": {},
   "outputs": [],
   "source": [
    "plt_settings[\"figure.figsize\"] = (full_width / 2, ratio * full_width / 2)\n",
    "\n",
    "with plt.rc_context(plt_settings):\n",
    "    _, axs = plt.subplots(1, 1, dpi=300)\n",
    "    for N, lmbdas in pdlmc_lambda.items():\n",
    "        axs.plot(\n",
    "            N * np.arange(ITERATIONS // N),\n",
    "            lmbdas[: ITERATIONS // N],\n",
    "            label=rf\"$N_b = {N}$ ({pdlmc_time[N]:.0f} s)\",\n",
    "        )\n",
    "    axs.ticklabel_format(scilimits=(0, 2))\n",
    "    axs.grid()\n",
    "    axs.set_xlabel(\"Iteration\")\n",
    "    axs.set_ylabel(r\"Dual variable ($\\lambda$)\")\n",
    "    plt.legend(loc=\"upper left\")\n",
    "\n",
    "    plt.show()"
   ]
  }
 ],
 "metadata": {
  "kernelspec": {
   "display_name": "pytorch",
   "language": "python",
   "name": "python3"
  },
  "language_info": {
   "codemirror_mode": {
    "name": "ipython",
    "version": 3
   },
   "file_extension": ".py",
   "mimetype": "text/x-python",
   "name": "python",
   "nbconvert_exporter": "python",
   "pygments_lexer": "ipython3",
   "version": "3.11.6"
  }
 },
 "nbformat": 4,
 "nbformat_minor": 2
}
